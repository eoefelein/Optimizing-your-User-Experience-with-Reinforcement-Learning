{
 "cells": [
  {
   "cell_type": "code",
   "execution_count": 1,
   "id": "c3f6647a-166e-43e0-96d0-c612697271d4",
   "metadata": {},
   "outputs": [
    {
     "data": {
      "application/javascript": [
       "\n",
       "            setTimeout(function() {\n",
       "                var nbb_cell_id = 1;\n",
       "                var nbb_unformatted_code = \"%load_ext nb_black\";\n",
       "                var nbb_formatted_code = \"%load_ext nb_black\";\n",
       "                var nbb_cells = Jupyter.notebook.get_cells();\n",
       "                for (var i = 0; i < nbb_cells.length; ++i) {\n",
       "                    if (nbb_cells[i].input_prompt_number == nbb_cell_id) {\n",
       "                        if (nbb_cells[i].get_text() == nbb_unformatted_code) {\n",
       "                             nbb_cells[i].set_text(nbb_formatted_code);\n",
       "                        }\n",
       "                        break;\n",
       "                    }\n",
       "                }\n",
       "            }, 500);\n",
       "            "
      ],
      "text/plain": [
       "<IPython.core.display.Javascript object>"
      ]
     },
     "metadata": {},
     "output_type": "display_data"
    }
   ],
   "source": [
    "%load_ext nb_black"
   ]
  },
  {
   "cell_type": "code",
   "execution_count": 2,
   "id": "60a2a590-de6f-4906-aaa0-24b0717fb2b0",
   "metadata": {},
   "outputs": [
    {
     "data": {
      "application/javascript": [
       "\n",
       "            setTimeout(function() {\n",
       "                var nbb_cell_id = 2;\n",
       "                var nbb_unformatted_code = \"import random\\nimport numpy as np\\nimport seaborn as sns\\nfrom sklearn.utils import shuffle\\nfrom tqdm import tqdm\\nimport pandas as pd\\nimport math\";\n",
       "                var nbb_formatted_code = \"import random\\nimport numpy as np\\nimport seaborn as sns\\nfrom sklearn.utils import shuffle\\nfrom tqdm import tqdm\\nimport pandas as pd\\nimport math\";\n",
       "                var nbb_cells = Jupyter.notebook.get_cells();\n",
       "                for (var i = 0; i < nbb_cells.length; ++i) {\n",
       "                    if (nbb_cells[i].input_prompt_number == nbb_cell_id) {\n",
       "                        if (nbb_cells[i].get_text() == nbb_unformatted_code) {\n",
       "                             nbb_cells[i].set_text(nbb_formatted_code);\n",
       "                        }\n",
       "                        break;\n",
       "                    }\n",
       "                }\n",
       "            }, 500);\n",
       "            "
      ],
      "text/plain": [
       "<IPython.core.display.Javascript object>"
      ]
     },
     "metadata": {},
     "output_type": "display_data"
    }
   ],
   "source": [
    "import random\n",
    "import numpy as np\n",
    "import seaborn as sns\n",
    "from sklearn.utils import shuffle\n",
    "from tqdm import tqdm\n",
    "import pandas as pd\n",
    "import math\n",
    "\n",
    "import warnings\n",
    "warnings.filterwarnings(\"ignore\")"
   ]
  },
  {
   "cell_type": "markdown",
   "id": "0d56c679-839e-446e-b2e5-3c525cbc0439",
   "metadata": {},
   "source": [
    "# DATA"
   ]
  },
  {
   "cell_type": "code",
   "execution_count": null,
   "id": "4111dd87-1485-493b-9429-dc7bb070599d",
   "metadata": {},
   "outputs": [],
   "source": [
    "states = pd.read_csv('data_for_sarsa_lambda.csv')\n",
    "rewards = states['rewards'].tolist()\n",
    "actions = states['actions'].tolist()\n",
    "states.drop(['rewards','actions'], axis=1, inplace=True)"
   ]
  },
  {
   "cell_type": "markdown",
   "id": "9d1e0ac9-3570-40e4-a961-d0669865ba8e",
   "metadata": {},
   "source": [
    "# TRAJECTORIES"
   ]
  },
  {
   "cell_type": "code",
   "execution_count": 12,
   "id": "a6ea4071-890c-419f-a48f-cd98721f9704",
   "metadata": {
    "scrolled": true
   },
   "outputs": [
    {
     "ename": "KeyError",
     "evalue": "114000",
     "output_type": "error",
     "traceback": [
      "\u001b[0;31m---------------------------------------------------------------------------\u001b[0m",
      "\u001b[0;31mValueError\u001b[0m                                Traceback (most recent call last)",
      "File \u001b[0;32m/Library/Frameworks/Python.framework/Versions/3.10/lib/python3.10/site-packages/pandas/core/indexes/range.py:414\u001b[0m, in \u001b[0;36mRangeIndex.get_loc\u001b[0;34m(self, key)\u001b[0m\n\u001b[1;32m    413\u001b[0m \u001b[38;5;28;01mtry\u001b[39;00m:\n\u001b[0;32m--> 414\u001b[0m     \u001b[38;5;28;01mreturn\u001b[39;00m \u001b[38;5;28;43mself\u001b[39;49m\u001b[38;5;241;43m.\u001b[39;49m\u001b[43m_range\u001b[49m\u001b[38;5;241;43m.\u001b[39;49m\u001b[43mindex\u001b[49m\u001b[43m(\u001b[49m\u001b[43mnew_key\u001b[49m\u001b[43m)\u001b[49m\n\u001b[1;32m    415\u001b[0m \u001b[38;5;28;01mexcept\u001b[39;00m \u001b[38;5;167;01mValueError\u001b[39;00m \u001b[38;5;28;01mas\u001b[39;00m err:\n",
      "\u001b[0;31mValueError\u001b[0m: 114000 is not in range",
      "\nThe above exception was the direct cause of the following exception:\n",
      "\u001b[0;31mKeyError\u001b[0m                                  Traceback (most recent call last)",
      "Cell \u001b[0;32mIn[12], line 20\u001b[0m\n\u001b[1;32m     18\u001b[0m     t\u001b[38;5;241m.\u001b[39mappend(\u001b[38;5;28;01mTrue\u001b[39;00m)\n\u001b[1;32m     19\u001b[0m \u001b[38;5;28;01melse\u001b[39;00m:\n\u001b[0;32m---> 20\u001b[0m     t\u001b[38;5;241m.\u001b[39mappend(\u001b[43mstates\u001b[49m\u001b[38;5;241;43m.\u001b[39;49m\u001b[43mloc\u001b[49m\u001b[43m[\u001b[49m\u001b[43midx\u001b[49m\u001b[38;5;241;43m+\u001b[39;49m\u001b[38;5;241;43m1\u001b[39;49m\u001b[43m,\u001b[49m\u001b[43m:\u001b[49m\u001b[43m]\u001b[49m\u001b[38;5;241m.\u001b[39mvalues) \u001b[38;5;66;03m# next state\u001b[39;00m\n\u001b[1;32m     21\u001b[0m     t\u001b[38;5;241m.\u001b[39mappend(\u001b[38;5;28;01mFalse\u001b[39;00m)\n\u001b[1;32m     22\u001b[0m is_end_of_traj \u001b[38;5;241m=\u001b[39m \u001b[38;5;28;01mFalse\u001b[39;00m\n",
      "File \u001b[0;32m/Library/Frameworks/Python.framework/Versions/3.10/lib/python3.10/site-packages/pandas/core/indexing.py:1147\u001b[0m, in \u001b[0;36m_LocationIndexer.__getitem__\u001b[0;34m(self, key)\u001b[0m\n\u001b[1;32m   1145\u001b[0m     \u001b[38;5;28;01mif\u001b[39;00m \u001b[38;5;28mself\u001b[39m\u001b[38;5;241m.\u001b[39m_is_scalar_access(key):\n\u001b[1;32m   1146\u001b[0m         \u001b[38;5;28;01mreturn\u001b[39;00m \u001b[38;5;28mself\u001b[39m\u001b[38;5;241m.\u001b[39mobj\u001b[38;5;241m.\u001b[39m_get_value(\u001b[38;5;241m*\u001b[39mkey, takeable\u001b[38;5;241m=\u001b[39m\u001b[38;5;28mself\u001b[39m\u001b[38;5;241m.\u001b[39m_takeable)\n\u001b[0;32m-> 1147\u001b[0m     \u001b[38;5;28;01mreturn\u001b[39;00m \u001b[38;5;28;43mself\u001b[39;49m\u001b[38;5;241;43m.\u001b[39;49m\u001b[43m_getitem_tuple\u001b[49m\u001b[43m(\u001b[49m\u001b[43mkey\u001b[49m\u001b[43m)\u001b[49m\n\u001b[1;32m   1148\u001b[0m \u001b[38;5;28;01melse\u001b[39;00m:\n\u001b[1;32m   1149\u001b[0m     \u001b[38;5;66;03m# we by definition only have the 0th axis\u001b[39;00m\n\u001b[1;32m   1150\u001b[0m     axis \u001b[38;5;241m=\u001b[39m \u001b[38;5;28mself\u001b[39m\u001b[38;5;241m.\u001b[39maxis \u001b[38;5;129;01mor\u001b[39;00m \u001b[38;5;241m0\u001b[39m\n",
      "File \u001b[0;32m/Library/Frameworks/Python.framework/Versions/3.10/lib/python3.10/site-packages/pandas/core/indexing.py:1330\u001b[0m, in \u001b[0;36m_LocIndexer._getitem_tuple\u001b[0;34m(self, tup)\u001b[0m\n\u001b[1;32m   1328\u001b[0m \u001b[38;5;28;01mwith\u001b[39;00m suppress(IndexingError):\n\u001b[1;32m   1329\u001b[0m     tup \u001b[38;5;241m=\u001b[39m \u001b[38;5;28mself\u001b[39m\u001b[38;5;241m.\u001b[39m_expand_ellipsis(tup)\n\u001b[0;32m-> 1330\u001b[0m     \u001b[38;5;28;01mreturn\u001b[39;00m \u001b[38;5;28;43mself\u001b[39;49m\u001b[38;5;241;43m.\u001b[39;49m\u001b[43m_getitem_lowerdim\u001b[49m\u001b[43m(\u001b[49m\u001b[43mtup\u001b[49m\u001b[43m)\u001b[49m\n\u001b[1;32m   1332\u001b[0m \u001b[38;5;66;03m# no multi-index, so validate all of the indexers\u001b[39;00m\n\u001b[1;32m   1333\u001b[0m tup \u001b[38;5;241m=\u001b[39m \u001b[38;5;28mself\u001b[39m\u001b[38;5;241m.\u001b[39m_validate_tuple_indexer(tup)\n",
      "File \u001b[0;32m/Library/Frameworks/Python.framework/Versions/3.10/lib/python3.10/site-packages/pandas/core/indexing.py:1039\u001b[0m, in \u001b[0;36m_LocationIndexer._getitem_lowerdim\u001b[0;34m(self, tup)\u001b[0m\n\u001b[1;32m   1035\u001b[0m \u001b[38;5;28;01mfor\u001b[39;00m i, key \u001b[38;5;129;01min\u001b[39;00m \u001b[38;5;28menumerate\u001b[39m(tup):\n\u001b[1;32m   1036\u001b[0m     \u001b[38;5;28;01mif\u001b[39;00m is_label_like(key):\n\u001b[1;32m   1037\u001b[0m         \u001b[38;5;66;03m# We don't need to check for tuples here because those are\u001b[39;00m\n\u001b[1;32m   1038\u001b[0m         \u001b[38;5;66;03m#  caught by the _is_nested_tuple_indexer check above.\u001b[39;00m\n\u001b[0;32m-> 1039\u001b[0m         section \u001b[38;5;241m=\u001b[39m \u001b[38;5;28;43mself\u001b[39;49m\u001b[38;5;241;43m.\u001b[39;49m\u001b[43m_getitem_axis\u001b[49m\u001b[43m(\u001b[49m\u001b[43mkey\u001b[49m\u001b[43m,\u001b[49m\u001b[43m \u001b[49m\u001b[43maxis\u001b[49m\u001b[38;5;241;43m=\u001b[39;49m\u001b[43mi\u001b[49m\u001b[43m)\u001b[49m\n\u001b[1;32m   1041\u001b[0m         \u001b[38;5;66;03m# We should never have a scalar section here, because\u001b[39;00m\n\u001b[1;32m   1042\u001b[0m         \u001b[38;5;66;03m#  _getitem_lowerdim is only called after a check for\u001b[39;00m\n\u001b[1;32m   1043\u001b[0m         \u001b[38;5;66;03m#  is_scalar_access, which that would be.\u001b[39;00m\n\u001b[1;32m   1044\u001b[0m         \u001b[38;5;28;01mif\u001b[39;00m section\u001b[38;5;241m.\u001b[39mndim \u001b[38;5;241m==\u001b[39m \u001b[38;5;28mself\u001b[39m\u001b[38;5;241m.\u001b[39mndim:\n\u001b[1;32m   1045\u001b[0m             \u001b[38;5;66;03m# we're in the middle of slicing through a MultiIndex\u001b[39;00m\n\u001b[1;32m   1046\u001b[0m             \u001b[38;5;66;03m# revise the key wrt to `section` by inserting an _NS\u001b[39;00m\n",
      "File \u001b[0;32m/Library/Frameworks/Python.framework/Versions/3.10/lib/python3.10/site-packages/pandas/core/indexing.py:1393\u001b[0m, in \u001b[0;36m_LocIndexer._getitem_axis\u001b[0;34m(self, key, axis)\u001b[0m\n\u001b[1;32m   1391\u001b[0m \u001b[38;5;66;03m# fall thru to straight lookup\u001b[39;00m\n\u001b[1;32m   1392\u001b[0m \u001b[38;5;28mself\u001b[39m\u001b[38;5;241m.\u001b[39m_validate_key(key, axis)\n\u001b[0;32m-> 1393\u001b[0m \u001b[38;5;28;01mreturn\u001b[39;00m \u001b[38;5;28;43mself\u001b[39;49m\u001b[38;5;241;43m.\u001b[39;49m\u001b[43m_get_label\u001b[49m\u001b[43m(\u001b[49m\u001b[43mkey\u001b[49m\u001b[43m,\u001b[49m\u001b[43m \u001b[49m\u001b[43maxis\u001b[49m\u001b[38;5;241;43m=\u001b[39;49m\u001b[43maxis\u001b[49m\u001b[43m)\u001b[49m\n",
      "File \u001b[0;32m/Library/Frameworks/Python.framework/Versions/3.10/lib/python3.10/site-packages/pandas/core/indexing.py:1343\u001b[0m, in \u001b[0;36m_LocIndexer._get_label\u001b[0;34m(self, label, axis)\u001b[0m\n\u001b[1;32m   1341\u001b[0m \u001b[38;5;28;01mdef\u001b[39;00m \u001b[38;5;21m_get_label\u001b[39m(\u001b[38;5;28mself\u001b[39m, label, axis: AxisInt):\n\u001b[1;32m   1342\u001b[0m     \u001b[38;5;66;03m# GH#5567 this will fail if the label is not present in the axis.\u001b[39;00m\n\u001b[0;32m-> 1343\u001b[0m     \u001b[38;5;28;01mreturn\u001b[39;00m \u001b[38;5;28;43mself\u001b[39;49m\u001b[38;5;241;43m.\u001b[39;49m\u001b[43mobj\u001b[49m\u001b[38;5;241;43m.\u001b[39;49m\u001b[43mxs\u001b[49m\u001b[43m(\u001b[49m\u001b[43mlabel\u001b[49m\u001b[43m,\u001b[49m\u001b[43m \u001b[49m\u001b[43maxis\u001b[49m\u001b[38;5;241;43m=\u001b[39;49m\u001b[43maxis\u001b[49m\u001b[43m)\u001b[49m\n",
      "File \u001b[0;32m/Library/Frameworks/Python.framework/Versions/3.10/lib/python3.10/site-packages/pandas/core/generic.py:4236\u001b[0m, in \u001b[0;36mNDFrame.xs\u001b[0;34m(self, key, axis, level, drop_level)\u001b[0m\n\u001b[1;32m   4234\u001b[0m             new_index \u001b[38;5;241m=\u001b[39m index[loc]\n\u001b[1;32m   4235\u001b[0m \u001b[38;5;28;01melse\u001b[39;00m:\n\u001b[0;32m-> 4236\u001b[0m     loc \u001b[38;5;241m=\u001b[39m \u001b[43mindex\u001b[49m\u001b[38;5;241;43m.\u001b[39;49m\u001b[43mget_loc\u001b[49m\u001b[43m(\u001b[49m\u001b[43mkey\u001b[49m\u001b[43m)\u001b[49m\n\u001b[1;32m   4238\u001b[0m     \u001b[38;5;28;01mif\u001b[39;00m \u001b[38;5;28misinstance\u001b[39m(loc, np\u001b[38;5;241m.\u001b[39mndarray):\n\u001b[1;32m   4239\u001b[0m         \u001b[38;5;28;01mif\u001b[39;00m loc\u001b[38;5;241m.\u001b[39mdtype \u001b[38;5;241m==\u001b[39m np\u001b[38;5;241m.\u001b[39mbool_:\n",
      "File \u001b[0;32m/Library/Frameworks/Python.framework/Versions/3.10/lib/python3.10/site-packages/pandas/core/indexes/range.py:416\u001b[0m, in \u001b[0;36mRangeIndex.get_loc\u001b[0;34m(self, key)\u001b[0m\n\u001b[1;32m    414\u001b[0m         \u001b[38;5;28;01mreturn\u001b[39;00m \u001b[38;5;28mself\u001b[39m\u001b[38;5;241m.\u001b[39m_range\u001b[38;5;241m.\u001b[39mindex(new_key)\n\u001b[1;32m    415\u001b[0m     \u001b[38;5;28;01mexcept\u001b[39;00m \u001b[38;5;167;01mValueError\u001b[39;00m \u001b[38;5;28;01mas\u001b[39;00m err:\n\u001b[0;32m--> 416\u001b[0m         \u001b[38;5;28;01mraise\u001b[39;00m \u001b[38;5;167;01mKeyError\u001b[39;00m(key) \u001b[38;5;28;01mfrom\u001b[39;00m \u001b[38;5;21;01merr\u001b[39;00m\n\u001b[1;32m    417\u001b[0m \u001b[38;5;28;01mif\u001b[39;00m \u001b[38;5;28misinstance\u001b[39m(key, Hashable):\n\u001b[1;32m    418\u001b[0m     \u001b[38;5;28;01mraise\u001b[39;00m \u001b[38;5;167;01mKeyError\u001b[39;00m(key)\n",
      "\u001b[0;31mKeyError\u001b[0m: 114000"
     ]
    },
    {
     "data": {
      "application/javascript": [
       "\n",
       "            setTimeout(function() {\n",
       "                var nbb_cell_id = 12;\n",
       "                var nbb_unformatted_code = \"T = []\\nfor s, a, r in zip(states.iterrows(), actions, rewards):\\n    t = []\\n    idx, row = s\\n    row_np = np.array(row.values)\\n    if idx % 18 == 0:\\n        is_end_of_traj = True\\n        if idx == 0:\\n            is_end_of_traj = False\\n    t.append(row_np) # state\\n    t.append(a) # action\\n    if is_end_of_traj and (r == 1): # is they are at state 19 and reward is 1, they made it to the end successfully\\n        t.append(10) # goal state reward\\n    else:\\n        t.append(r) # otherwise append 0\\n    if is_end_of_traj:\\n        t.append(row_np) # append current state\\n        t.append(True)\\n    else:\\n        t.append(states.loc[idx+1,:].values) # next state\\n        t.append(False)\\n    is_end_of_traj = False\\n    # print(t)\\n    T.append(t)\";\n",
       "                var nbb_formatted_code = \"T = []\\nfor s, a, r in zip(states.iterrows(), actions, rewards):\\n    t = []\\n    idx, row = s\\n    row_np = np.array(row.values)\\n    if idx % 18 == 0:\\n        is_end_of_traj = True\\n        if idx == 0:\\n            is_end_of_traj = False\\n    t.append(row_np)  # state\\n    t.append(a)  # action\\n    if is_end_of_traj and (\\n        r == 1\\n    ):  # is they are at state 19 and reward is 1, they made it to the end successfully\\n        t.append(10)  # goal state reward\\n    else:\\n        t.append(r)  # otherwise append 0\\n    if is_end_of_traj:\\n        t.append(row_np)  # append current state\\n        t.append(True)\\n    else:\\n        t.append(states.loc[idx + 1, :].values)  # next state\\n        t.append(False)\\n    is_end_of_traj = False\\n    # print(t)\\n    T.append(t)\";\n",
       "                var nbb_cells = Jupyter.notebook.get_cells();\n",
       "                for (var i = 0; i < nbb_cells.length; ++i) {\n",
       "                    if (nbb_cells[i].input_prompt_number == nbb_cell_id) {\n",
       "                        if (nbb_cells[i].get_text() == nbb_unformatted_code) {\n",
       "                             nbb_cells[i].set_text(nbb_formatted_code);\n",
       "                        }\n",
       "                        break;\n",
       "                    }\n",
       "                }\n",
       "            }, 500);\n",
       "            "
      ],
      "text/plain": [
       "<IPython.core.display.Javascript object>"
      ]
     },
     "metadata": {},
     "output_type": "display_data"
    }
   ],
   "source": [
    "T = []\n",
    "for s, a, r in zip(states.iterrows(), actions, rewards):\n",
    "    t = []\n",
    "    idx, row = s\n",
    "    row_np = np.array(row.values)\n",
    "    if idx % 18 == 0:\n",
    "        is_end_of_traj = True\n",
    "        if idx == 0:\n",
    "            is_end_of_traj = False\n",
    "    t.append(row_np) # state\n",
    "    t.append(a) # action\n",
    "    if is_end_of_traj and (r == 1): # is they are at state 19 and reward is 1, they made it to the end successfully\n",
    "        t.append(10) # goal state reward\n",
    "    else:\n",
    "        t.append(r) # otherwise append 0\n",
    "    if is_end_of_traj:\n",
    "        t.append(row_np) # append current state\n",
    "        t.append(True)\n",
    "    else:\n",
    "        t.append(states.loc[idx+1,:].values) # next state\n",
    "        t.append(False)\n",
    "    is_end_of_traj = False\n",
    "    # print(t)\n",
    "    T.append(t)"
   ]
  },
  {
   "cell_type": "markdown",
   "id": "0fa11b73-cbd2-43f3-8715-08aa57f20495",
   "metadata": {},
   "source": [
    "# indicate DONE for 0 or -10 reward"
   ]
  },
  {
   "cell_type": "code",
   "execution_count": null,
   "id": "a4c61032-2d52-4ce9-b014-9bb151ec332d",
   "metadata": {},
   "outputs": [],
   "source": [
    "for idx, t in enumerate(T):\n",
    "    if (t[2] == 0) or (t[2] == -10):\n",
    "        T[idx][4] = True"
   ]
  },
  {
   "cell_type": "markdown",
   "id": "6b4e9f35-86e6-4bfd-ac1d-785cc8ef837f",
   "metadata": {},
   "source": [
    "# TILES"
   ]
  },
  {
   "cell_type": "code",
   "execution_count": 62,
   "id": "61ce8ebe-6381-4967-a6fa-88d8ea854903",
   "metadata": {},
   "outputs": [
    {
     "data": {
      "application/javascript": [
       "\n",
       "            setTimeout(function() {\n",
       "                var nbb_cell_id = 62;\n",
       "                var nbb_unformatted_code = \"class StateActionFeatureVectorWithTile:\\n    def __init__(\\n        self,\\n        state_low: np.array,\\n        state_high: np.array,\\n        num_actions: int,\\n        num_tilings: int,\\n        tile_width: np.array,\\n    ):\\n        \\\"\\\"\\\"\\n        state_low: possible minimum value for each dimension in state\\n        state_high: possible maximum value for each dimension in state\\n        num_actions: the number of possible actions\\n        num_tilings: # tilings\\n        tile_width: tile width for each dimension\\n        \\\"\\\"\\\"\\n        # TODO: implement here\\n        self.state_low = state_low\\n        self.state_high = state_high\\n        self.num_actions = num_actions\\n        self.num_tilings = num_tilings\\n        self.tile_width = tile_width\\n        \\n        self.tiles = []\\n        self.offset = []\\n        self.tiles = [math.ceil((state_high[i] - state_low[i]) / tile_width[i]) + 1 for i in range(len(self.tile_width))]\\n        self.tiles.append(self.num_actions)\\n        self.offset = [(state_low - (i / num_tilings) * tile_width) for i in range(self.num_tilings)]\\n        self.weight = np.zeros(np.append(self.num_tilings, self.tiles))\\n\\n    def feature_vector_len(self) -> int:\\n        \\\"\\\"\\\"\\n        return dimension of feature_vector: d = num_actions * num_tilings * num_tiles\\n        \\\"\\\"\\\"\\n        return np.append(self.num_tilings, self.tiles)\\n\\n    def __call__(self, s, a) -> np.array:\\n        \\\"\\\"\\\"\\n        implement function x: S+ x A -> [0,1]^d\\n        if done is True, then return 0^d\\n        \\\"\\\"\\\"\\n        # TODO: implement this method\\n        self.features = np.zeros(np.append(self.num_tilings, self.tiles))\\n        # if done:\\n        #     return self.features.flatten()\\n        # else:\\n        for i in range(self.num_tilings):\\n            index = np.floor((s - self.offset[i]) / self.tile_width)\\n            # print('index', index)\\n            u = int(index[0])\\n            # print('u', u)\\n            v = int(index[1])\\n            # print('v', v)\\n            w = int(index[2])\\n            x = int(index[3])\\n            y = int(index[4])\\n            z = int(index[5])\\n            # print('a', a)\\n            # print(self.features.shape)\\n            self.features[i][u][v][w][x][y][z][a] = 1\\n        return self.features.flatten()\";\n",
       "                var nbb_formatted_code = \"class StateActionFeatureVectorWithTile:\\n    def __init__(\\n        self,\\n        state_low: np.array,\\n        state_high: np.array,\\n        num_actions: int,\\n        num_tilings: int,\\n        tile_width: np.array,\\n    ):\\n        \\\"\\\"\\\"\\n        state_low: possible minimum value for each dimension in state\\n        state_high: possible maximum value for each dimension in state\\n        num_actions: the number of possible actions\\n        num_tilings: # tilings\\n        tile_width: tile width for each dimension\\n        \\\"\\\"\\\"\\n        # TODO: implement here\\n        self.state_low = state_low\\n        self.state_high = state_high\\n        self.num_actions = num_actions\\n        self.num_tilings = num_tilings\\n        self.tile_width = tile_width\\n\\n        self.tiles = []\\n        self.offset = []\\n        self.tiles = [\\n            math.ceil((state_high[i] - state_low[i]) / tile_width[i]) + 1\\n            for i in range(len(self.tile_width))\\n        ]\\n        self.tiles.append(self.num_actions)\\n        self.offset = [\\n            (state_low - (i / num_tilings) * tile_width)\\n            for i in range(self.num_tilings)\\n        ]\\n        self.weight = np.zeros(np.append(self.num_tilings, self.tiles))\\n\\n    def feature_vector_len(self) -> int:\\n        \\\"\\\"\\\"\\n        return dimension of feature_vector: d = num_actions * num_tilings * num_tiles\\n        \\\"\\\"\\\"\\n        return np.append(self.num_tilings, self.tiles)\\n\\n    def __call__(self, s, a) -> np.array:\\n        \\\"\\\"\\\"\\n        implement function x: S+ x A -> [0,1]^d\\n        if done is True, then return 0^d\\n        \\\"\\\"\\\"\\n        # TODO: implement this method\\n        self.features = np.zeros(np.append(self.num_tilings, self.tiles))\\n        # if done:\\n        #     return self.features.flatten()\\n        # else:\\n        for i in range(self.num_tilings):\\n            index = np.floor((s - self.offset[i]) / self.tile_width)\\n            # print('index', index)\\n            u = int(index[0])\\n            # print('u', u)\\n            v = int(index[1])\\n            # print('v', v)\\n            w = int(index[2])\\n            x = int(index[3])\\n            y = int(index[4])\\n            z = int(index[5])\\n            # print('a', a)\\n            # print(self.features.shape)\\n            self.features[i][u][v][w][x][y][z][a] = 1\\n        return self.features.flatten()\";\n",
       "                var nbb_cells = Jupyter.notebook.get_cells();\n",
       "                for (var i = 0; i < nbb_cells.length; ++i) {\n",
       "                    if (nbb_cells[i].input_prompt_number == nbb_cell_id) {\n",
       "                        if (nbb_cells[i].get_text() == nbb_unformatted_code) {\n",
       "                             nbb_cells[i].set_text(nbb_formatted_code);\n",
       "                        }\n",
       "                        break;\n",
       "                    }\n",
       "                }\n",
       "            }, 500);\n",
       "            "
      ],
      "text/plain": [
       "<IPython.core.display.Javascript object>"
      ]
     },
     "metadata": {},
     "output_type": "display_data"
    }
   ],
   "source": [
    "class StateActionFeatureVectorWithTile:\n",
    "    def __init__(\n",
    "        self,\n",
    "        state_low: np.array,\n",
    "        state_high: np.array,\n",
    "        num_actions: int,\n",
    "        num_tilings: int,\n",
    "        tile_width: np.array,\n",
    "    ):\n",
    "        \"\"\"\n",
    "        state_low: possible minimum value for each dimension in state\n",
    "        state_high: possible maximum value for each dimension in state\n",
    "        num_actions: the number of possible actions\n",
    "        num_tilings: # tilings\n",
    "        tile_width: tile width for each dimension\n",
    "        \"\"\"\n",
    "        # TODO: implement here\n",
    "        self.state_low = state_low\n",
    "        self.state_high = state_high\n",
    "        self.num_actions = num_actions\n",
    "        self.num_tilings = num_tilings\n",
    "        self.tile_width = tile_width\n",
    "        \n",
    "        self.tiles = []\n",
    "        self.offset = []\n",
    "        self.tiles = [math.ceil((state_high[i] - state_low[i]) / tile_width[i]) + 1 for i in range(len(self.tile_width))]\n",
    "        self.tiles.append(self.num_actions)\n",
    "        self.offset = [(state_low - (i / num_tilings) * tile_width) for i in range(self.num_tilings)]\n",
    "        self.weight = np.zeros(np.append(self.num_tilings, self.tiles))\n",
    "\n",
    "    def feature_vector_len(self) -> int:\n",
    "        \"\"\"\n",
    "        return dimension of feature_vector: d = num_actions * num_tilings * num_tiles\n",
    "        \"\"\"\n",
    "        return np.append(self.num_tilings, self.tiles)\n",
    "\n",
    "    def __call__(self, s, a) -> np.array:\n",
    "        \"\"\"\n",
    "        implement function x: S+ x A -> [0,1]^d\n",
    "        if done is True, then return 0^d\n",
    "        \"\"\"\n",
    "        self.features = np.zeros(np.append(self.num_tilings, self.tiles))\n",
    "        for i in range(self.num_tilings):\n",
    "            index = np.floor((s - self.offset[i]) / self.tile_width)\n",
    "            # print('index', index)\n",
    "            u = int(index[0])\n",
    "            # print('u', u)\n",
    "            v = int(index[1])\n",
    "            # print('v', v)\n",
    "            w = int(index[2])\n",
    "            x = int(index[3])\n",
    "            y = int(index[4])\n",
    "            z = int(index[5])\n",
    "            self.features[i][u][v][w][x][y][z][a] = 1\n",
    "        return self.features.flatten()"
   ]
  },
  {
   "cell_type": "code",
   "execution_count": 63,
   "id": "467908fc-6ee0-43c2-9c6b-e700f07185a4",
   "metadata": {},
   "outputs": [
    {
     "data": {
      "application/javascript": [
       "\n",
       "            setTimeout(function() {\n",
       "                var nbb_cell_id = 63;\n",
       "                var nbb_unformatted_code = \"state_low = [15, 1, 0, 0, 0, 0, 0]\\nstate_high = [100, 50, 1, 9, 5, 1, 160000]\\n# tile_width = [85, 49, 1, 9, 5, 1, 160000]\\ntile_width = [17, 10, 0.2, 2, 1, 0.2, 35000]\\n\\nX = StateActionFeatureVectorWithTile(\\n        [15, 1, 0, 0, 0, 0, 0],\\n        [100, 50, 1, 9, 5, 1, 160000],\\n        num_actions=6,\\n        num_tilings=10,\\n        tile_width=np.array([17, 10, 0.2, 2, 1, 0.2, 35000])\\n    )\";\n",
       "                var nbb_formatted_code = \"state_low = [15, 1, 0, 0, 0, 0, 0]\\nstate_high = [100, 50, 1, 9, 5, 1, 160000]\\n# tile_width = [85, 49, 1, 9, 5, 1, 160000]\\ntile_width = [17, 10, 0.2, 2, 1, 0.2, 35000]\\n\\nX = StateActionFeatureVectorWithTile(\\n    [15, 1, 0, 0, 0, 0, 0],\\n    [100, 50, 1, 9, 5, 1, 160000],\\n    num_actions=6,\\n    num_tilings=10,\\n    tile_width=np.array([17, 10, 0.2, 2, 1, 0.2, 35000]),\\n)\";\n",
       "                var nbb_cells = Jupyter.notebook.get_cells();\n",
       "                for (var i = 0; i < nbb_cells.length; ++i) {\n",
       "                    if (nbb_cells[i].input_prompt_number == nbb_cell_id) {\n",
       "                        if (nbb_cells[i].get_text() == nbb_unformatted_code) {\n",
       "                             nbb_cells[i].set_text(nbb_formatted_code);\n",
       "                        }\n",
       "                        break;\n",
       "                    }\n",
       "                }\n",
       "            }, 500);\n",
       "            "
      ],
      "text/plain": [
       "<IPython.core.display.Javascript object>"
      ]
     },
     "metadata": {},
     "output_type": "display_data"
    }
   ],
   "source": [
    "state_low = [15, 1, 0, 0, 0, 0, 0]\n",
    "state_high = [100, 50, 1, 9, 5, 1, 160000]\n",
    "tile_width = [17, 10, 0.2, 2, 1, 0.2, 35000]\n",
    "\n",
    "X = StateActionFeatureVectorWithTile(\n",
    "        [15, 1, 0, 0, 0, 0, 0],\n",
    "        [100, 50, 1, 9, 5, 1, 160000],\n",
    "        num_actions=6,\n",
    "        num_tilings=10,\n",
    "        tile_width=np.array([17, 10, 0.2, 2, 1, 0.2, 35000])\n",
    "    )"
   ]
  },
  {
   "cell_type": "code",
   "execution_count": 60,
   "id": "c6e830b7-33f0-4071-b1a9-68d83591840f",
   "metadata": {},
   "outputs": [
    {
     "data": {
      "application/javascript": [
       "\n",
       "            setTimeout(function() {\n",
       "                var nbb_cell_id = 60;\n",
       "                var nbb_unformatted_code = \"# w = np.zeros((X.feature_vector_len())).flatten()\\nW = np.zeros((X.feature_vector_len())).flatten()\";\n",
       "                var nbb_formatted_code = \"# w = np.zeros((X.feature_vector_len())).flatten()\\nW = np.zeros((X.feature_vector_len())).flatten()\";\n",
       "                var nbb_cells = Jupyter.notebook.get_cells();\n",
       "                for (var i = 0; i < nbb_cells.length; ++i) {\n",
       "                    if (nbb_cells[i].input_prompt_number == nbb_cell_id) {\n",
       "                        if (nbb_cells[i].get_text() == nbb_unformatted_code) {\n",
       "                             nbb_cells[i].set_text(nbb_formatted_code);\n",
       "                        }\n",
       "                        break;\n",
       "                    }\n",
       "                }\n",
       "            }, 500);\n",
       "            "
      ],
      "text/plain": [
       "<IPython.core.display.Javascript object>"
      ]
     },
     "metadata": {},
     "output_type": "display_data"
    }
   ],
   "source": [
    "w = np.zeros((X.feature_vector_len())).flatten()"
   ]
  },
  {
   "cell_type": "code",
   "execution_count": 64,
   "id": "4992753b-9587-4c2a-9c33-e1a481183dab",
   "metadata": {},
   "outputs": [
    {
     "name": "stderr",
     "output_type": "stream",
     "text": [
      "113998it [21:18:33,  1.49it/s] \n"
     ]
    },
    {
     "ename": "IndexError",
     "evalue": "list index out of range",
     "output_type": "error",
     "traceback": [
      "\u001b[0;31m---------------------------------------------------------------------------\u001b[0m",
      "\u001b[0;31mIndexError\u001b[0m                                Traceback (most recent call last)",
      "Cell \u001b[0;32mIn[64], line 28\u001b[0m\n\u001b[1;32m     26\u001b[0m \u001b[38;5;66;03m# take action a, observe r, s -> s_prime, reward, done, _ = env.step(a)\u001b[39;00m\n\u001b[1;32m     27\u001b[0m s_prime \u001b[38;5;241m=\u001b[39m t[\u001b[38;5;241m3\u001b[39m]\n\u001b[0;32m---> 28\u001b[0m reward \u001b[38;5;241m=\u001b[39m \u001b[43mT\u001b[49m\u001b[43m[\u001b[49m\u001b[43mi\u001b[49m\u001b[38;5;241;43m+\u001b[39;49m\u001b[38;5;241;43m1\u001b[39;49m\u001b[43m]\u001b[49m[\u001b[38;5;241m2\u001b[39m] \u001b[38;5;66;03m# done should be true on the terminal state\u001b[39;00m\n\u001b[1;32m     29\u001b[0m done \u001b[38;5;241m=\u001b[39m T[i\u001b[38;5;241m+\u001b[39m\u001b[38;5;241m1\u001b[39m][\u001b[38;5;241m4\u001b[39m]\n\u001b[1;32m     30\u001b[0m \u001b[38;5;66;03m# given s_prime, choose a_prime using w\u001b[39;00m\n",
      "\u001b[0;31mIndexError\u001b[0m: list index out of range"
     ]
    },
    {
     "data": {
      "application/javascript": [
       "\n",
       "            setTimeout(function() {\n",
       "                var nbb_cell_id = 64;\n",
       "                var nbb_unformatted_code = \"gamma = 1.    # discount factor\\nlam = 0.5     # decay rate\\nalpha = 0.1  # step size\\n\\ndef epsilon_greedy_policy(s, w, epsilon=0.15):\\n        nA = 6\\n        Q = [np.matmul(w, X(s, a)) for a in range(nA)]\\n\\n        if np.random.rand() < epsilon:\\n            return np.random.randint(nA)\\n        else:\\n            return np.argmax(Q)\\n\\ndone = T[0][4]\\ns = T[0][0]\\n# read s, done, w to e-greedy policy\\na = epsilon_greedy_policy(s, W)\\n\\nx = X(s,a)\\nz = np.zeros(X.feature_vector_len()).flatten()\\n\\n# constitutes one episode\\nfor i, t in tqdm(enumerate(T)):\\n    if done == False:\\n        s = t[0]\\n        # take action a, observe r, s -> s_prime, reward, done, _ = env.step(a)\\n        s_prime = t[3]\\n        reward = T[i+1][2] # done should be true on the terminal state\\n        done = T[i+1][4]\\n        # given s_prime, choose a_prime using w\\n        a_prime = epsilon_greedy_policy(s_prime, W)\\n        # calculate x_prime using tile coding function\\n        x_prime = X(s_prime, a_prime)\\n        # calculate current Q\\n        Q = np.dot(W.T, x)\\n        # calculate next Q\\n        Q_prime = np.dot(W.T, x_prime)\\n        # calculate delta\\n        delta = reward + gamma * Q_prime - Q\\n        # calculate z\\n        z = (gamma * lam * z) + x # because the derivative of np.dot(w.T, x) w.r.t w is x?\\n        # calculate w\\n        W = W + alpha * delta * z\\n\\n        x = x_prime\\n        a = a_prime\\n    if done == True:\\n        done = T[i+1][4]\";\n",
       "                var nbb_formatted_code = \"gamma = 1.0  # discount factor\\nlam = 0.5  # decay rate\\nalpha = 0.1  # step size\\n\\n\\ndef epsilon_greedy_policy(s, w, epsilon=0.15):\\n    nA = 6\\n    Q = [np.matmul(w, X(s, a)) for a in range(nA)]\\n\\n    if np.random.rand() < epsilon:\\n        return np.random.randint(nA)\\n    else:\\n        return np.argmax(Q)\\n\\n\\ndone = T[0][4]\\ns = T[0][0]\\n# read s, done, w to e-greedy policy\\na = epsilon_greedy_policy(s, W)\\n\\nx = X(s, a)\\nz = np.zeros(X.feature_vector_len()).flatten()\\n\\n# constitutes one episode\\nfor i, t in tqdm(enumerate(T)):\\n    if done == False:\\n        s = t[0]\\n        # take action a, observe r, s -> s_prime, reward, done, _ = env.step(a)\\n        s_prime = t[3]\\n        reward = T[i + 1][2]  # done should be true on the terminal state\\n        done = T[i + 1][4]\\n        # given s_prime, choose a_prime using w\\n        a_prime = epsilon_greedy_policy(s_prime, W)\\n        # calculate x_prime using tile coding function\\n        x_prime = X(s_prime, a_prime)\\n        # calculate current Q\\n        Q = np.dot(W.T, x)\\n        # calculate next Q\\n        Q_prime = np.dot(W.T, x_prime)\\n        # calculate delta\\n        delta = reward + gamma * Q_prime - Q\\n        # calculate z\\n        z = (\\n            gamma * lam * z\\n        ) + x  # because the derivative of np.dot(w.T, x) w.r.t w is x?\\n        # calculate w\\n        W = W + alpha * delta * z\\n\\n        x = x_prime\\n        a = a_prime\\n    if done == True:\\n        done = T[i + 1][4]\";\n",
       "                var nbb_cells = Jupyter.notebook.get_cells();\n",
       "                for (var i = 0; i < nbb_cells.length; ++i) {\n",
       "                    if (nbb_cells[i].input_prompt_number == nbb_cell_id) {\n",
       "                        if (nbb_cells[i].get_text() == nbb_unformatted_code) {\n",
       "                             nbb_cells[i].set_text(nbb_formatted_code);\n",
       "                        }\n",
       "                        break;\n",
       "                    }\n",
       "                }\n",
       "            }, 500);\n",
       "            "
      ],
      "text/plain": [
       "<IPython.core.display.Javascript object>"
      ]
     },
     "metadata": {},
     "output_type": "display_data"
    }
   ],
   "source": [
    "gamma = 1.    # discount factor\n",
    "lam = 0.5     # decay rate\n",
    "alpha = 0.1   # step size\n",
    "\n",
    "def epsilon_greedy_policy(s, w, epsilon=0.15):\n",
    "        nA = 6\n",
    "        Q = [np.matmul(w, X(s, a)) for a in range(nA)]\n",
    "\n",
    "        if np.random.rand() < epsilon:\n",
    "            return np.random.randint(nA)\n",
    "        else:\n",
    "            return np.argmax(Q)\n",
    "\n",
    "done = T[0][4]\n",
    "s = T[0][0]\n",
    "# read s, done, w to e-greedy policy\n",
    "a = epsilon_greedy_policy(s, w)\n",
    "\n",
    "x = X(s,a)\n",
    "z = np.zeros(X.feature_vector_len()).flatten()\n",
    "\n",
    "# constitutes one episode\n",
    "for i, t in tqdm(enumerate(T)):\n",
    "    if done == False:\n",
    "        s = t[0]\n",
    "        # take action a, observe r, s -> s_prime, reward, done, _ = env.step(a)\n",
    "        s_prime = t[3]\n",
    "        reward = T[i+1][2] # done should be true on the terminal state\n",
    "        done = T[i+1][4]\n",
    "        # given s_prime, choose a_prime using w\n",
    "        a_prime = epsilon_greedy_policy(s_prime, W)\n",
    "        # calculate x_prime using tile coding function\n",
    "        x_prime = X(s_prime, a_prime)\n",
    "        # calculate current Q\n",
    "        Q = np.dot(W.T, x)\n",
    "        # calculate next Q\n",
    "        Q_prime = np.dot(W.T, x_prime)\n",
    "        # calculate delta\n",
    "        delta = reward + gamma * Q_prime - Q\n",
    "        # calculate z\n",
    "        z = (gamma * lam * z) + x\n",
    "        # calculate w\n",
    "        W = W + alpha * delta * z\n",
    "\n",
    "        x = x_prime\n",
    "        a = a_prime\n",
    "    if done == True:\n",
    "        done = T[i+1][4]"
   ]
  },
  {
   "cell_type": "code",
   "execution_count": 28,
   "id": "97d65757-006b-4ae4-bac9-7b09d2aad47e",
   "metadata": {},
   "outputs": [
    {
     "data": {
      "application/javascript": [
       "\n",
       "            setTimeout(function() {\n",
       "                var nbb_cell_id = 28;\n",
       "                var nbb_unformatted_code = \"# w = pd.read_csv('weight_for_sarsa_lambda.csv').transpose().to_numpy()\\nw = w.reshape(-1)\";\n",
       "                var nbb_formatted_code = \"# w = pd.read_csv('weight_for_sarsa_lambda.csv').transpose().to_numpy()\\nw = w.reshape(-1)\";\n",
       "                var nbb_cells = Jupyter.notebook.get_cells();\n",
       "                for (var i = 0; i < nbb_cells.length; ++i) {\n",
       "                    if (nbb_cells[i].input_prompt_number == nbb_cell_id) {\n",
       "                        if (nbb_cells[i].get_text() == nbb_unformatted_code) {\n",
       "                             nbb_cells[i].set_text(nbb_formatted_code);\n",
       "                        }\n",
       "                        break;\n",
       "                    }\n",
       "                }\n",
       "            }, 500);\n",
       "            "
      ],
      "text/plain": [
       "<IPython.core.display.Javascript object>"
      ]
     },
     "metadata": {},
     "output_type": "display_data"
    }
   ],
   "source": [
    "# w = pd.read_csv('weight_for_sarsa_lambda.csv').transpose().to_numpy()\n",
    "# w = w.reshape(-1)"
   ]
  }
 ],
 "metadata": {
  "kernelspec": {
   "display_name": "Python 3 (ipykernel)",
   "language": "python",
   "name": "python3"
  },
  "language_info": {
   "codemirror_mode": {
    "name": "ipython",
    "version": 3
   },
   "file_extension": ".py",
   "mimetype": "text/x-python",
   "name": "python",
   "nbconvert_exporter": "python",
   "pygments_lexer": "ipython3",
   "version": "3.10.10"
  }
 },
 "nbformat": 4,
 "nbformat_minor": 5
}
